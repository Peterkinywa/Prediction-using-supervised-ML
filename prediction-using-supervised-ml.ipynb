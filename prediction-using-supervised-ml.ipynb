{
 "cells": [
  {
   "cell_type": "markdown",
   "id": "10f57493",
   "metadata": {
    "id": "GzfdMfk10NE6",
    "papermill": {
     "duration": 0.024486,
     "end_time": "2021-12-07T14:34:41.924040",
     "exception": false,
     "start_time": "2021-12-07T14:34:41.899554",
     "status": "completed"
    },
    "tags": []
   },
   "source": [
    "## **Linear Regression with Python Scikit Learn**\n",
    "In this section we will see how the Python Scikit-Learn library for machine learning can be used to implement regression functions. We will start with simple linear regression involving two variables.\n",
    "\n",
    "### **Simple Linear Regression**\n",
    "In this regression task we will predict the percentage of marks that a student is expected to score based upon the number of hours they studied. This is a simple linear regression task as it involves just two variables."
   ]
  },
  {
   "cell_type": "code",
   "execution_count": 1,
   "id": "09cd0ea5",
   "metadata": {
    "execution": {
     "iopub.execute_input": "2021-12-07T14:34:41.960108Z",
     "iopub.status.busy": "2021-12-07T14:34:41.959178Z",
     "iopub.status.idle": "2021-12-07T14:34:41.969087Z",
     "shell.execute_reply": "2021-12-07T14:34:41.969707Z",
     "shell.execute_reply.started": "2021-12-07T14:29:00.761453Z"
    },
    "id": "V9QN2ZxC38pB",
    "papermill": {
     "duration": 0.02933,
     "end_time": "2021-12-07T14:34:41.969973",
     "exception": false,
     "start_time": "2021-12-07T14:34:41.940643",
     "status": "completed"
    },
    "tags": []
   },
   "outputs": [],
   "source": [
    "# Importing all libraries required in this notebook\n",
    "import pandas as pd\n",
    "import numpy as np  \n",
    "import matplotlib.pyplot as plt  \n",
    "%matplotlib inline"
   ]
  },
  {
   "cell_type": "code",
   "execution_count": 2,
   "id": "733a6eaf",
   "metadata": {
    "execution": {
     "iopub.execute_input": "2021-12-07T14:34:42.004107Z",
     "iopub.status.busy": "2021-12-07T14:34:42.003621Z",
     "iopub.status.idle": "2021-12-07T14:34:42.023825Z",
     "shell.execute_reply": "2021-12-07T14:34:42.023373Z",
     "shell.execute_reply.started": "2021-12-07T14:29:00.771223Z"
    },
    "id": "LtU4YMEhqm9m",
    "outputId": "5b4b36af-1545-497e-a6dc-7658bab71dbc",
    "papermill": {
     "duration": 0.03819,
     "end_time": "2021-12-07T14:34:42.023935",
     "exception": false,
     "start_time": "2021-12-07T14:34:41.985745",
     "status": "completed"
    },
    "tags": []
   },
   "outputs": [
    {
     "name": "stdout",
     "output_type": "stream",
     "text": [
      "Data imported successfully\n"
     ]
    }
   ],
   "source": [
    "#import data\n",
    "File_path = \"../input/student-hours-scores/Hours and Scores.csv\"\n",
    "HS_data = pd.read_csv(File_path)\n",
    "print(\"Data imported successfully\")\n"
   ]
  },
  {
   "cell_type": "code",
   "execution_count": 3,
   "id": "cbc33f59",
   "metadata": {
    "execution": {
     "iopub.execute_input": "2021-12-07T14:34:42.065483Z",
     "iopub.status.busy": "2021-12-07T14:34:42.059631Z",
     "iopub.status.idle": "2021-12-07T14:34:42.084349Z",
     "shell.execute_reply": "2021-12-07T14:34:42.083837Z",
     "shell.execute_reply.started": "2021-12-07T14:29:00.792524Z"
    },
    "papermill": {
     "duration": 0.04462,
     "end_time": "2021-12-07T14:34:42.084463",
     "exception": false,
     "start_time": "2021-12-07T14:34:42.039843",
     "status": "completed"
    },
    "tags": []
   },
   "outputs": [
    {
     "data": {
      "text/html": [
       "<div>\n",
       "<style scoped>\n",
       "    .dataframe tbody tr th:only-of-type {\n",
       "        vertical-align: middle;\n",
       "    }\n",
       "\n",
       "    .dataframe tbody tr th {\n",
       "        vertical-align: top;\n",
       "    }\n",
       "\n",
       "    .dataframe thead th {\n",
       "        text-align: right;\n",
       "    }\n",
       "</style>\n",
       "<table border=\"1\" class=\"dataframe\">\n",
       "  <thead>\n",
       "    <tr style=\"text-align: right;\">\n",
       "      <th></th>\n",
       "      <th>Unnamed: 0</th>\n",
       "      <th>Hours</th>\n",
       "      <th>Scores</th>\n",
       "    </tr>\n",
       "  </thead>\n",
       "  <tbody>\n",
       "    <tr>\n",
       "      <th>0</th>\n",
       "      <td>2.5,21</td>\n",
       "      <td>2.5</td>\n",
       "      <td>21</td>\n",
       "    </tr>\n",
       "    <tr>\n",
       "      <th>1</th>\n",
       "      <td>5.1,47</td>\n",
       "      <td>5.1</td>\n",
       "      <td>47</td>\n",
       "    </tr>\n",
       "    <tr>\n",
       "      <th>2</th>\n",
       "      <td>3.2,27</td>\n",
       "      <td>3.2</td>\n",
       "      <td>27</td>\n",
       "    </tr>\n",
       "    <tr>\n",
       "      <th>3</th>\n",
       "      <td>8.5,75</td>\n",
       "      <td>8.5</td>\n",
       "      <td>75</td>\n",
       "    </tr>\n",
       "    <tr>\n",
       "      <th>4</th>\n",
       "      <td>3.5,30</td>\n",
       "      <td>3.5</td>\n",
       "      <td>30</td>\n",
       "    </tr>\n",
       "    <tr>\n",
       "      <th>5</th>\n",
       "      <td>1.5,20</td>\n",
       "      <td>1.5</td>\n",
       "      <td>20</td>\n",
       "    </tr>\n",
       "    <tr>\n",
       "      <th>6</th>\n",
       "      <td>9.2,88</td>\n",
       "      <td>9.2</td>\n",
       "      <td>88</td>\n",
       "    </tr>\n",
       "    <tr>\n",
       "      <th>7</th>\n",
       "      <td>5.5,60</td>\n",
       "      <td>5.5</td>\n",
       "      <td>60</td>\n",
       "    </tr>\n",
       "    <tr>\n",
       "      <th>8</th>\n",
       "      <td>8.3,81</td>\n",
       "      <td>8.3</td>\n",
       "      <td>81</td>\n",
       "    </tr>\n",
       "    <tr>\n",
       "      <th>9</th>\n",
       "      <td>2.7,25</td>\n",
       "      <td>2.7</td>\n",
       "      <td>25</td>\n",
       "    </tr>\n",
       "  </tbody>\n",
       "</table>\n",
       "</div>"
      ],
      "text/plain": [
       "  Unnamed: 0  Hours  Scores\n",
       "0     2.5,21    2.5      21\n",
       "1     5.1,47    5.1      47\n",
       "2     3.2,27    3.2      27\n",
       "3     8.5,75    8.5      75\n",
       "4     3.5,30    3.5      30\n",
       "5     1.5,20    1.5      20\n",
       "6     9.2,88    9.2      88\n",
       "7     5.5,60    5.5      60\n",
       "8     8.3,81    8.3      81\n",
       "9     2.7,25    2.7      25"
      ]
     },
     "execution_count": 3,
     "metadata": {},
     "output_type": "execute_result"
    }
   ],
   "source": [
    "HS_data.head(10)"
   ]
  },
  {
   "cell_type": "code",
   "execution_count": 4,
   "id": "99b61d85",
   "metadata": {
    "execution": {
     "iopub.execute_input": "2021-12-07T14:34:42.130801Z",
     "iopub.status.busy": "2021-12-07T14:34:42.130221Z",
     "iopub.status.idle": "2021-12-07T14:34:42.134556Z",
     "shell.execute_reply": "2021-12-07T14:34:42.134953Z",
     "shell.execute_reply.started": "2021-12-07T14:29:00.806508Z"
    },
    "papermill": {
     "duration": 0.034724,
     "end_time": "2021-12-07T14:34:42.135114",
     "exception": false,
     "start_time": "2021-12-07T14:34:42.100390",
     "status": "completed"
    },
    "tags": []
   },
   "outputs": [
    {
     "data": {
      "text/html": [
       "<div>\n",
       "<style scoped>\n",
       "    .dataframe tbody tr th:only-of-type {\n",
       "        vertical-align: middle;\n",
       "    }\n",
       "\n",
       "    .dataframe tbody tr th {\n",
       "        vertical-align: top;\n",
       "    }\n",
       "\n",
       "    .dataframe thead th {\n",
       "        text-align: right;\n",
       "    }\n",
       "</style>\n",
       "<table border=\"1\" class=\"dataframe\">\n",
       "  <thead>\n",
       "    <tr style=\"text-align: right;\">\n",
       "      <th></th>\n",
       "      <th>Unnamed: 0</th>\n",
       "      <th>Hours</th>\n",
       "      <th>Scores</th>\n",
       "    </tr>\n",
       "  </thead>\n",
       "  <tbody>\n",
       "    <tr>\n",
       "      <th>0</th>\n",
       "      <td>False</td>\n",
       "      <td>False</td>\n",
       "      <td>False</td>\n",
       "    </tr>\n",
       "    <tr>\n",
       "      <th>1</th>\n",
       "      <td>False</td>\n",
       "      <td>False</td>\n",
       "      <td>False</td>\n",
       "    </tr>\n",
       "    <tr>\n",
       "      <th>2</th>\n",
       "      <td>False</td>\n",
       "      <td>False</td>\n",
       "      <td>False</td>\n",
       "    </tr>\n",
       "    <tr>\n",
       "      <th>3</th>\n",
       "      <td>False</td>\n",
       "      <td>False</td>\n",
       "      <td>False</td>\n",
       "    </tr>\n",
       "    <tr>\n",
       "      <th>4</th>\n",
       "      <td>False</td>\n",
       "      <td>False</td>\n",
       "      <td>False</td>\n",
       "    </tr>\n",
       "    <tr>\n",
       "      <th>5</th>\n",
       "      <td>False</td>\n",
       "      <td>False</td>\n",
       "      <td>False</td>\n",
       "    </tr>\n",
       "    <tr>\n",
       "      <th>6</th>\n",
       "      <td>False</td>\n",
       "      <td>False</td>\n",
       "      <td>False</td>\n",
       "    </tr>\n",
       "    <tr>\n",
       "      <th>7</th>\n",
       "      <td>False</td>\n",
       "      <td>False</td>\n",
       "      <td>False</td>\n",
       "    </tr>\n",
       "    <tr>\n",
       "      <th>8</th>\n",
       "      <td>False</td>\n",
       "      <td>False</td>\n",
       "      <td>False</td>\n",
       "    </tr>\n",
       "    <tr>\n",
       "      <th>9</th>\n",
       "      <td>False</td>\n",
       "      <td>False</td>\n",
       "      <td>False</td>\n",
       "    </tr>\n",
       "    <tr>\n",
       "      <th>10</th>\n",
       "      <td>False</td>\n",
       "      <td>False</td>\n",
       "      <td>False</td>\n",
       "    </tr>\n",
       "    <tr>\n",
       "      <th>11</th>\n",
       "      <td>False</td>\n",
       "      <td>False</td>\n",
       "      <td>False</td>\n",
       "    </tr>\n",
       "    <tr>\n",
       "      <th>12</th>\n",
       "      <td>False</td>\n",
       "      <td>False</td>\n",
       "      <td>False</td>\n",
       "    </tr>\n",
       "    <tr>\n",
       "      <th>13</th>\n",
       "      <td>False</td>\n",
       "      <td>False</td>\n",
       "      <td>False</td>\n",
       "    </tr>\n",
       "    <tr>\n",
       "      <th>14</th>\n",
       "      <td>False</td>\n",
       "      <td>False</td>\n",
       "      <td>False</td>\n",
       "    </tr>\n",
       "    <tr>\n",
       "      <th>15</th>\n",
       "      <td>False</td>\n",
       "      <td>False</td>\n",
       "      <td>False</td>\n",
       "    </tr>\n",
       "    <tr>\n",
       "      <th>16</th>\n",
       "      <td>False</td>\n",
       "      <td>False</td>\n",
       "      <td>False</td>\n",
       "    </tr>\n",
       "    <tr>\n",
       "      <th>17</th>\n",
       "      <td>False</td>\n",
       "      <td>False</td>\n",
       "      <td>False</td>\n",
       "    </tr>\n",
       "    <tr>\n",
       "      <th>18</th>\n",
       "      <td>False</td>\n",
       "      <td>False</td>\n",
       "      <td>False</td>\n",
       "    </tr>\n",
       "    <tr>\n",
       "      <th>19</th>\n",
       "      <td>False</td>\n",
       "      <td>False</td>\n",
       "      <td>False</td>\n",
       "    </tr>\n",
       "    <tr>\n",
       "      <th>20</th>\n",
       "      <td>False</td>\n",
       "      <td>False</td>\n",
       "      <td>False</td>\n",
       "    </tr>\n",
       "    <tr>\n",
       "      <th>21</th>\n",
       "      <td>False</td>\n",
       "      <td>False</td>\n",
       "      <td>False</td>\n",
       "    </tr>\n",
       "    <tr>\n",
       "      <th>22</th>\n",
       "      <td>False</td>\n",
       "      <td>False</td>\n",
       "      <td>False</td>\n",
       "    </tr>\n",
       "    <tr>\n",
       "      <th>23</th>\n",
       "      <td>False</td>\n",
       "      <td>False</td>\n",
       "      <td>False</td>\n",
       "    </tr>\n",
       "    <tr>\n",
       "      <th>24</th>\n",
       "      <td>False</td>\n",
       "      <td>False</td>\n",
       "      <td>False</td>\n",
       "    </tr>\n",
       "  </tbody>\n",
       "</table>\n",
       "</div>"
      ],
      "text/plain": [
       "    Unnamed: 0  Hours  Scores\n",
       "0        False  False   False\n",
       "1        False  False   False\n",
       "2        False  False   False\n",
       "3        False  False   False\n",
       "4        False  False   False\n",
       "5        False  False   False\n",
       "6        False  False   False\n",
       "7        False  False   False\n",
       "8        False  False   False\n",
       "9        False  False   False\n",
       "10       False  False   False\n",
       "11       False  False   False\n",
       "12       False  False   False\n",
       "13       False  False   False\n",
       "14       False  False   False\n",
       "15       False  False   False\n",
       "16       False  False   False\n",
       "17       False  False   False\n",
       "18       False  False   False\n",
       "19       False  False   False\n",
       "20       False  False   False\n",
       "21       False  False   False\n",
       "22       False  False   False\n",
       "23       False  False   False\n",
       "24       False  False   False"
      ]
     },
     "execution_count": 4,
     "metadata": {},
     "output_type": "execute_result"
    }
   ],
   "source": [
    "HS_data.isnull()"
   ]
  },
  {
   "cell_type": "code",
   "execution_count": 5,
   "id": "6bc107e5",
   "metadata": {
    "execution": {
     "iopub.execute_input": "2021-12-07T14:34:42.177654Z",
     "iopub.status.busy": "2021-12-07T14:34:42.177079Z",
     "iopub.status.idle": "2021-12-07T14:34:42.186951Z",
     "shell.execute_reply": "2021-12-07T14:34:42.186447Z",
     "shell.execute_reply.started": "2021-12-07T14:29:00.830699Z"
    },
    "papermill": {
     "duration": 0.035239,
     "end_time": "2021-12-07T14:34:42.187080",
     "exception": false,
     "start_time": "2021-12-07T14:34:42.151841",
     "status": "completed"
    },
    "tags": []
   },
   "outputs": [
    {
     "data": {
      "text/html": [
       "<div>\n",
       "<style scoped>\n",
       "    .dataframe tbody tr th:only-of-type {\n",
       "        vertical-align: middle;\n",
       "    }\n",
       "\n",
       "    .dataframe tbody tr th {\n",
       "        vertical-align: top;\n",
       "    }\n",
       "\n",
       "    .dataframe thead th {\n",
       "        text-align: right;\n",
       "    }\n",
       "</style>\n",
       "<table border=\"1\" class=\"dataframe\">\n",
       "  <thead>\n",
       "    <tr style=\"text-align: right;\">\n",
       "      <th></th>\n",
       "      <th>Unnamed: 0</th>\n",
       "      <th>Hours</th>\n",
       "      <th>Scores</th>\n",
       "    </tr>\n",
       "  </thead>\n",
       "  <tbody>\n",
       "    <tr>\n",
       "      <th>0</th>\n",
       "      <td>True</td>\n",
       "      <td>True</td>\n",
       "      <td>True</td>\n",
       "    </tr>\n",
       "    <tr>\n",
       "      <th>1</th>\n",
       "      <td>True</td>\n",
       "      <td>True</td>\n",
       "      <td>True</td>\n",
       "    </tr>\n",
       "    <tr>\n",
       "      <th>2</th>\n",
       "      <td>True</td>\n",
       "      <td>True</td>\n",
       "      <td>True</td>\n",
       "    </tr>\n",
       "    <tr>\n",
       "      <th>3</th>\n",
       "      <td>True</td>\n",
       "      <td>True</td>\n",
       "      <td>True</td>\n",
       "    </tr>\n",
       "    <tr>\n",
       "      <th>4</th>\n",
       "      <td>True</td>\n",
       "      <td>True</td>\n",
       "      <td>True</td>\n",
       "    </tr>\n",
       "    <tr>\n",
       "      <th>5</th>\n",
       "      <td>True</td>\n",
       "      <td>True</td>\n",
       "      <td>True</td>\n",
       "    </tr>\n",
       "    <tr>\n",
       "      <th>6</th>\n",
       "      <td>True</td>\n",
       "      <td>True</td>\n",
       "      <td>True</td>\n",
       "    </tr>\n",
       "    <tr>\n",
       "      <th>7</th>\n",
       "      <td>True</td>\n",
       "      <td>True</td>\n",
       "      <td>True</td>\n",
       "    </tr>\n",
       "    <tr>\n",
       "      <th>8</th>\n",
       "      <td>True</td>\n",
       "      <td>True</td>\n",
       "      <td>True</td>\n",
       "    </tr>\n",
       "    <tr>\n",
       "      <th>9</th>\n",
       "      <td>True</td>\n",
       "      <td>True</td>\n",
       "      <td>True</td>\n",
       "    </tr>\n",
       "    <tr>\n",
       "      <th>10</th>\n",
       "      <td>True</td>\n",
       "      <td>True</td>\n",
       "      <td>True</td>\n",
       "    </tr>\n",
       "    <tr>\n",
       "      <th>11</th>\n",
       "      <td>True</td>\n",
       "      <td>True</td>\n",
       "      <td>True</td>\n",
       "    </tr>\n",
       "    <tr>\n",
       "      <th>12</th>\n",
       "      <td>True</td>\n",
       "      <td>True</td>\n",
       "      <td>True</td>\n",
       "    </tr>\n",
       "    <tr>\n",
       "      <th>13</th>\n",
       "      <td>True</td>\n",
       "      <td>True</td>\n",
       "      <td>True</td>\n",
       "    </tr>\n",
       "    <tr>\n",
       "      <th>14</th>\n",
       "      <td>True</td>\n",
       "      <td>True</td>\n",
       "      <td>True</td>\n",
       "    </tr>\n",
       "    <tr>\n",
       "      <th>15</th>\n",
       "      <td>True</td>\n",
       "      <td>True</td>\n",
       "      <td>True</td>\n",
       "    </tr>\n",
       "    <tr>\n",
       "      <th>16</th>\n",
       "      <td>True</td>\n",
       "      <td>True</td>\n",
       "      <td>True</td>\n",
       "    </tr>\n",
       "    <tr>\n",
       "      <th>17</th>\n",
       "      <td>True</td>\n",
       "      <td>True</td>\n",
       "      <td>True</td>\n",
       "    </tr>\n",
       "    <tr>\n",
       "      <th>18</th>\n",
       "      <td>True</td>\n",
       "      <td>True</td>\n",
       "      <td>True</td>\n",
       "    </tr>\n",
       "    <tr>\n",
       "      <th>19</th>\n",
       "      <td>True</td>\n",
       "      <td>True</td>\n",
       "      <td>True</td>\n",
       "    </tr>\n",
       "    <tr>\n",
       "      <th>20</th>\n",
       "      <td>True</td>\n",
       "      <td>True</td>\n",
       "      <td>True</td>\n",
       "    </tr>\n",
       "    <tr>\n",
       "      <th>21</th>\n",
       "      <td>True</td>\n",
       "      <td>True</td>\n",
       "      <td>True</td>\n",
       "    </tr>\n",
       "    <tr>\n",
       "      <th>22</th>\n",
       "      <td>True</td>\n",
       "      <td>True</td>\n",
       "      <td>True</td>\n",
       "    </tr>\n",
       "    <tr>\n",
       "      <th>23</th>\n",
       "      <td>True</td>\n",
       "      <td>True</td>\n",
       "      <td>True</td>\n",
       "    </tr>\n",
       "    <tr>\n",
       "      <th>24</th>\n",
       "      <td>True</td>\n",
       "      <td>True</td>\n",
       "      <td>True</td>\n",
       "    </tr>\n",
       "  </tbody>\n",
       "</table>\n",
       "</div>"
      ],
      "text/plain": [
       "    Unnamed: 0  Hours  Scores\n",
       "0         True   True    True\n",
       "1         True   True    True\n",
       "2         True   True    True\n",
       "3         True   True    True\n",
       "4         True   True    True\n",
       "5         True   True    True\n",
       "6         True   True    True\n",
       "7         True   True    True\n",
       "8         True   True    True\n",
       "9         True   True    True\n",
       "10        True   True    True\n",
       "11        True   True    True\n",
       "12        True   True    True\n",
       "13        True   True    True\n",
       "14        True   True    True\n",
       "15        True   True    True\n",
       "16        True   True    True\n",
       "17        True   True    True\n",
       "18        True   True    True\n",
       "19        True   True    True\n",
       "20        True   True    True\n",
       "21        True   True    True\n",
       "22        True   True    True\n",
       "23        True   True    True\n",
       "24        True   True    True"
      ]
     },
     "execution_count": 5,
     "metadata": {},
     "output_type": "execute_result"
    }
   ],
   "source": [
    "HS_data.notnull()"
   ]
  },
  {
   "cell_type": "markdown",
   "id": "21360d43",
   "metadata": {
    "id": "RHsPneuM4NgB",
    "papermill": {
     "duration": 0.016992,
     "end_time": "2021-12-07T14:34:42.221479",
     "exception": false,
     "start_time": "2021-12-07T14:34:42.204487",
     "status": "completed"
    },
    "tags": []
   },
   "source": [
    "Let's plot our data points on 2-D graph to eyeball our dataset and see if we can manually find any relationship between the data. We can create the plot with the following script:"
   ]
  },
  {
   "cell_type": "code",
   "execution_count": 6,
   "id": "53cc6560",
   "metadata": {
    "execution": {
     "iopub.execute_input": "2021-12-07T14:34:42.259603Z",
     "iopub.status.busy": "2021-12-07T14:34:42.259053Z",
     "iopub.status.idle": "2021-12-07T14:34:42.628144Z",
     "shell.execute_reply": "2021-12-07T14:34:42.628551Z",
     "shell.execute_reply.started": "2021-12-07T14:29:00.846946Z"
    },
    "id": "qxYBZkhAqpn9",
    "outputId": "37264af1-786d-4e0c-a668-383264d1ddd1",
    "papermill": {
     "duration": 0.389897,
     "end_time": "2021-12-07T14:34:42.628697",
     "exception": false,
     "start_time": "2021-12-07T14:34:42.238800",
     "status": "completed"
    },
    "tags": []
   },
   "outputs": [
    {
     "data": {
      "image/png": "[encoded data removed]",
      "text/plain": [
       "<Figure size 432x288 with 1 Axes>"
      ]
     },
     "metadata": {
      "needs_background": "light"
     },
     "output_type": "display_data"
    }
   ],
   "source": [
    "# Plotting the distribution of scores\n",
    "HS_data.plot(x='Hours', y='Scores', style='o')  \n",
    "plt.title('Hours against Percentage of scores')  \n",
    "plt.xlabel('Hours Studied')  \n",
    "plt.ylabel('Percentage Score')  \n",
    "plt.show()"
   ]
  },
  {
   "cell_type": "markdown",
   "id": "cbdc5af7",
   "metadata": {
    "id": "fiQaULio4Rzr",
    "papermill": {
     "duration": 0.017231,
     "end_time": "2021-12-07T14:34:42.663460",
     "exception": false,
     "start_time": "2021-12-07T14:34:42.646229",
     "status": "completed"
    },
    "tags": []
   },
   "source": [
    "**From the graph above, we can clearly see that there is a positive linear relation between the number of hours studied and percentage of score.**"
   ]
  },
  {
   "cell_type": "markdown",
   "id": "89253acb",
   "metadata": {
    "id": "WWtEr64M4jdz",
    "papermill": {
     "duration": 0.017574,
     "end_time": "2021-12-07T14:34:42.699616",
     "exception": false,
     "start_time": "2021-12-07T14:34:42.682042",
     "status": "completed"
    },
    "tags": []
   },
   "source": [
    "### **Preparing the data**\n",
    "\n",
    "The next step is to divide the data into \"attributes\" (inputs) and \"labels\" (outputs)."
   ]
  },
  {
   "cell_type": "code",
   "execution_count": 7,
   "id": "c759afc2",
   "metadata": {
    "execution": {
     "iopub.execute_input": "2021-12-07T14:34:42.738638Z",
     "iopub.status.busy": "2021-12-07T14:34:42.738076Z",
     "iopub.status.idle": "2021-12-07T14:34:42.744544Z",
     "shell.execute_reply": "2021-12-07T14:34:42.745031Z",
     "shell.execute_reply.started": "2021-12-07T14:29:01.258314Z"
    },
    "papermill": {
     "duration": 0.027826,
     "end_time": "2021-12-07T14:34:42.745177",
     "exception": false,
     "start_time": "2021-12-07T14:34:42.717351",
     "status": "completed"
    },
    "tags": []
   },
   "outputs": [
    {
     "data": {
      "text/plain": [
       "0     2.5,21\n",
       "1     5.1,47\n",
       "2     3.2,27\n",
       "3     8.5,75\n",
       "4     3.5,30\n",
       "5     1.5,20\n",
       "6     9.2,88\n",
       "7     5.5,60\n",
       "8     8.3,81\n",
       "9     2.7,25\n",
       "10    7.7,85\n",
       "11    5.9,62\n",
       "12    4.5,41\n",
       "13    3.3,42\n",
       "14    1.1,17\n",
       "15    8.9,95\n",
       "16    2.5,30\n",
       "17    1.9,24\n",
       "18    6.1,67\n",
       "19    7.4,69\n",
       "20    2.7,30\n",
       "21    4.8,54\n",
       "22    3.8,35\n",
       "23    6.9,76\n",
       "24    7.8,86\n",
       "Name: Unnamed: 0, dtype: object"
      ]
     },
     "execution_count": 7,
     "metadata": {},
     "output_type": "execute_result"
    }
   ],
   "source": [
    "#Drop a column\n",
    "HS_data.pop('Unnamed: 0')"
   ]
  },
  {
   "cell_type": "code",
   "execution_count": 8,
   "id": "313bbc6f",
   "metadata": {
    "execution": {
     "iopub.execute_input": "2021-12-07T14:34:42.785168Z",
     "iopub.status.busy": "2021-12-07T14:34:42.784648Z",
     "iopub.status.idle": "2021-12-07T14:34:42.793402Z",
     "shell.execute_reply": "2021-12-07T14:34:42.793795Z",
     "shell.execute_reply.started": "2021-12-07T14:29:01.270221Z"
    },
    "papermill": {
     "duration": 0.030577,
     "end_time": "2021-12-07T14:34:42.793950",
     "exception": false,
     "start_time": "2021-12-07T14:34:42.763373",
     "status": "completed"
    },
    "tags": []
   },
   "outputs": [
    {
     "name": "stdout",
     "output_type": "stream",
     "text": [
      "    Hours  Scores\n",
      "0     2.5      21\n",
      "1     5.1      47\n",
      "2     3.2      27\n",
      "3     8.5      75\n",
      "4     3.5      30\n",
      "5     1.5      20\n",
      "6     9.2      88\n",
      "7     5.5      60\n",
      "8     8.3      81\n",
      "9     2.7      25\n",
      "10    7.7      85\n",
      "11    5.9      62\n",
      "12    4.5      41\n",
      "13    3.3      42\n",
      "14    1.1      17\n",
      "15    8.9      95\n",
      "16    2.5      30\n",
      "17    1.9      24\n",
      "18    6.1      67\n",
      "19    7.4      69\n",
      "20    2.7      30\n",
      "21    4.8      54\n",
      "22    3.8      35\n",
      "23    6.9      76\n",
      "24    7.8      86\n"
     ]
    }
   ],
   "source": [
    "print(HS_data)"
   ]
  },
  {
   "cell_type": "code",
   "execution_count": 9,
   "id": "a0ef9b9a",
   "metadata": {
    "execution": {
     "iopub.execute_input": "2021-12-07T14:34:42.837988Z",
     "iopub.status.busy": "2021-12-07T14:34:42.833196Z",
     "iopub.status.idle": "2021-12-07T14:34:42.841098Z",
     "shell.execute_reply": "2021-12-07T14:34:42.840551Z",
     "shell.execute_reply.started": "2021-12-07T14:29:01.281999Z"
    },
    "id": "LiJ5210e4tNX",
    "papermill": {
     "duration": 0.029194,
     "end_time": "2021-12-07T14:34:42.841220",
     "exception": false,
     "start_time": "2021-12-07T14:34:42.812026",
     "status": "completed"
    },
    "tags": []
   },
   "outputs": [],
   "source": [
    "X = HS_data.iloc[:, :-1].values  \n",
    "y = HS_data.iloc[:, 1].values  "
   ]
  },
  {
   "cell_type": "markdown",
   "id": "e4be183c",
   "metadata": {
    "id": "Riz-ZiZ34fO4",
    "papermill": {
     "duration": 0.017529,
     "end_time": "2021-12-07T14:34:42.877785",
     "exception": false,
     "start_time": "2021-12-07T14:34:42.860256",
     "status": "completed"
    },
    "tags": []
   },
   "source": [
    "Now that we have our attributes and labels, the next step is to split this data into training and test sets. We'll do this by using Scikit-Learn's built-in train_test_split() method:"
   ]
  },
  {
   "cell_type": "code",
   "execution_count": 10,
   "id": "a86cbc1f",
   "metadata": {
    "execution": {
     "iopub.execute_input": "2021-12-07T14:34:42.918088Z",
     "iopub.status.busy": "2021-12-07T14:34:42.916760Z",
     "iopub.status.idle": "2021-12-07T14:34:44.123926Z",
     "shell.execute_reply": "2021-12-07T14:34:44.122731Z",
     "shell.execute_reply.started": "2021-12-07T14:29:01.296718Z"
    },
    "id": "udFYso1M4BNw",
    "papermill": {
     "duration": 1.228409,
     "end_time": "2021-12-07T14:34:44.124082",
     "exception": false,
     "start_time": "2021-12-07T14:34:42.895673",
     "status": "completed"
    },
    "tags": []
   },
   "outputs": [],
   "source": [
    "from sklearn.model_selection import train_test_split  \n",
    "X_train, X_test, y_train, y_test = train_test_split(X, y, \n",
    "                            test_size=0.2, random_state=0) "
   ]
  },
  {
   "cell_type": "markdown",
   "id": "c6d2ea71",
   "metadata": {
    "id": "a6WXptFU5CkC",
    "papermill": {
     "duration": 0.028907,
     "end_time": "2021-12-07T14:34:44.181698",
     "exception": false,
     "start_time": "2021-12-07T14:34:44.152791",
     "status": "completed"
    },
    "tags": []
   },
   "source": [
    "### **Training the Algorithm**\n",
    "We have split our data into training and testing sets, and now is finally the time to train our algorithm. "
   ]
  },
  {
   "cell_type": "code",
   "execution_count": 11,
   "id": "91f52838",
   "metadata": {
    "execution": {
     "iopub.execute_input": "2021-12-07T14:34:44.246073Z",
     "iopub.status.busy": "2021-12-07T14:34:44.245470Z",
     "iopub.status.idle": "2021-12-07T14:34:44.366998Z",
     "shell.execute_reply": "2021-12-07T14:34:44.367399Z",
     "shell.execute_reply.started": "2021-12-07T14:29:01.312228Z"
    },
    "id": "qddCuaS84fpK",
    "outputId": "befbd977-772c-4bd1-bb48-ee5dd6bae73c",
    "papermill": {
     "duration": 0.156347,
     "end_time": "2021-12-07T14:34:44.367546",
     "exception": false,
     "start_time": "2021-12-07T14:34:44.211199",
     "status": "completed"
    },
    "tags": []
   },
   "outputs": [
    {
     "name": "stdout",
     "output_type": "stream",
     "text": [
      "Training complete.\n"
     ]
    }
   ],
   "source": [
    "from sklearn.linear_model import LinearRegression  \n",
    "regressor = LinearRegression()  \n",
    "regressor.fit(X_train, y_train) \n",
    "\n",
    "print(\"Training complete.\")"
   ]
  },
  {
   "cell_type": "code",
   "execution_count": 12,
   "id": "e6791199",
   "metadata": {
    "execution": {
     "iopub.execute_input": "2021-12-07T14:34:44.417324Z",
     "iopub.status.busy": "2021-12-07T14:34:44.416545Z",
     "iopub.status.idle": "2021-12-07T14:34:44.560923Z",
     "shell.execute_reply": "2021-12-07T14:34:44.561464Z",
     "shell.execute_reply.started": "2021-12-07T14:29:01.328456Z"
    },
    "id": "J61NX2_2-px7",
    "outputId": "d20ec1fd-3e2d-4eae-84a2-a0df57d31009",
    "papermill": {
     "duration": 0.175256,
     "end_time": "2021-12-07T14:34:44.561651",
     "exception": false,
     "start_time": "2021-12-07T14:34:44.386395",
     "status": "completed"
    },
    "tags": []
   },
   "outputs": [
    {
     "data": {
      "image/png": "[encoded data removed]",
      "text/plain": [
       "<Figure size 432x288 with 1 Axes>"
      ]
     },
     "metadata": {
      "needs_background": "light"
     },
     "output_type": "display_data"
    }
   ],
   "source": [
    "# Plotting the regression line\n",
    "line = regressor.coef_*X+regressor.intercept_\n",
    "\n",
    "# Plotting for the test data\n",
    "plt.scatter(X, y)\n",
    "plt.plot(X, line);\n",
    "plt.title(\"Regression Line\")\n",
    "plt.show()"
   ]
  },
  {
   "cell_type": "markdown",
   "id": "92827b05",
   "metadata": {
    "id": "JCQn-g4m5OK2",
    "papermill": {
     "duration": 0.028698,
     "end_time": "2021-12-07T14:34:44.619300",
     "exception": false,
     "start_time": "2021-12-07T14:34:44.590602",
     "status": "completed"
    },
    "tags": []
   },
   "source": [
    "### **Making Predictions**\n",
    "Now that we have trained our algorithm, it's time to make some predictions."
   ]
  },
  {
   "cell_type": "code",
   "execution_count": 13,
   "id": "267f2bee",
   "metadata": {
    "execution": {
     "iopub.execute_input": "2021-12-07T14:34:44.681769Z",
     "iopub.status.busy": "2021-12-07T14:34:44.680312Z",
     "iopub.status.idle": "2021-12-07T14:34:44.685386Z",
     "shell.execute_reply": "2021-12-07T14:34:44.685776Z",
     "shell.execute_reply.started": "2021-12-07T14:29:01.538876Z"
    },
    "id": "Tt-Fmzu55EGM",
    "outputId": "46f1acf8-91ac-4984-cfbe-e614aa9ea849",
    "papermill": {
     "duration": 0.037929,
     "end_time": "2021-12-07T14:34:44.685932",
     "exception": false,
     "start_time": "2021-12-07T14:34:44.648003",
     "status": "completed"
    },
    "tags": []
   },
   "outputs": [
    {
     "name": "stdout",
     "output_type": "stream",
     "text": [
      "[[1.5]\n",
      " [3.2]\n",
      " [7.4]\n",
      " [2.5]\n",
      " [5.9]]\n"
     ]
    }
   ],
   "source": [
    "print(X_test) # Testing data - In Hours\n",
    "y_pred = regressor.predict(X_test) # Predicting the scores"
   ]
  },
  {
   "cell_type": "code",
   "execution_count": 14,
   "id": "2a690e79",
   "metadata": {
    "execution": {
     "iopub.execute_input": "2021-12-07T14:34:44.729945Z",
     "iopub.status.busy": "2021-12-07T14:34:44.729391Z",
     "iopub.status.idle": "2021-12-07T14:34:44.738070Z",
     "shell.execute_reply": "2021-12-07T14:34:44.739013Z",
     "shell.execute_reply.started": "2021-12-07T14:29:01.547531Z"
    },
    "id": "6bmZUMZh5QLb",
    "outputId": "8ea11a9e-c1b7-4fab-ab62-4dcbd2c8607b",
    "papermill": {
     "duration": 0.033332,
     "end_time": "2021-12-07T14:34:44.739356",
     "exception": false,
     "start_time": "2021-12-07T14:34:44.706024",
     "status": "completed"
    },
    "tags": []
   },
   "outputs": [
    {
     "name": "stdout",
     "output_type": "stream",
     "text": [
      "   Actual  Predicted\n",
      "0      20  16.884145\n",
      "1      27  33.732261\n",
      "2      69  75.357018\n",
      "3      30  26.794801\n",
      "4      62  60.491033\n"
     ]
    }
   ],
   "source": [
    "# Comparing Actual vs Predicted\n",
    "HS_data = pd.DataFrame({'Actual': y_test, 'Predicted': y_pred})  \n",
    "print(HS_data)"
   ]
  },
  {
   "cell_type": "code",
   "execution_count": 15,
   "id": "c1736134",
   "metadata": {
    "execution": {
     "iopub.execute_input": "2021-12-07T14:34:44.785869Z",
     "iopub.status.busy": "2021-12-07T14:34:44.785305Z",
     "iopub.status.idle": "2021-12-07T14:34:44.793868Z",
     "shell.execute_reply": "2021-12-07T14:34:44.794288Z",
     "shell.execute_reply.started": "2021-12-07T14:29:01.565558Z"
    },
    "id": "KAFO8zbx-AH1",
    "outputId": "fcb3830f-3cda-4dcb-f122-84b71f101fae",
    "papermill": {
     "duration": 0.032493,
     "end_time": "2021-12-07T14:34:44.794489",
     "exception": false,
     "start_time": "2021-12-07T14:34:44.761996",
     "status": "completed"
    },
    "tags": []
   },
   "outputs": [
    {
     "name": "stdout",
     "output_type": "stream",
     "text": [
      "No of Hours = [[9.25]]\n",
      "Predicted Score = 93.69173248737539\n"
     ]
    }
   ],
   "source": [
    "# You can also test with your own data\n",
    "hours=9.25\n",
    "hours=np.array(hours).reshape(1, -1)\n",
    "own_pred = regressor.predict(hours)\n",
    "print(\"No of Hours = {}\".format(hours))\n",
    "print(\"Predicted Score = {}\".format(own_pred[0]))"
   ]
  },
  {
   "cell_type": "markdown",
   "id": "2a564445",
   "metadata": {
    "id": "0AAsPVA_6KmK",
    "papermill": {
     "duration": 0.019878,
     "end_time": "2021-12-07T14:34:44.835111",
     "exception": false,
     "start_time": "2021-12-07T14:34:44.815233",
     "status": "completed"
    },
    "tags": []
   },
   "source": [
    "### **Evaluating the model**\n",
    "\n",
    "The final step is to evaluate the performance of algorithm. This step is particularly important to compare how well different algorithms perform on a particular dataset. For simplicity here, we have chosen the mean square error. There are many such metrics."
   ]
  },
  {
   "cell_type": "code",
   "execution_count": 16,
   "id": "a401c35e",
   "metadata": {
    "execution": {
     "iopub.execute_input": "2021-12-07T14:34:44.882399Z",
     "iopub.status.busy": "2021-12-07T14:34:44.881794Z",
     "iopub.status.idle": "2021-12-07T14:34:44.884976Z",
     "shell.execute_reply": "2021-12-07T14:34:44.884518Z",
     "shell.execute_reply.started": "2021-12-07T14:29:01.588078Z"
    },
    "id": "r5UOrRH-5VCQ",
    "outputId": "7b9ddcf1-2848-408f-d81f-7a60652c381e",
    "papermill": {
     "duration": 0.029937,
     "end_time": "2021-12-07T14:34:44.885095",
     "exception": false,
     "start_time": "2021-12-07T14:34:44.855158",
     "status": "completed"
    },
    "tags": []
   },
   "outputs": [
    {
     "name": "stdout",
     "output_type": "stream",
     "text": [
      "Mean Absolute Error: 4.183859899002982\n"
     ]
    }
   ],
   "source": [
    "from sklearn import metrics  \n",
    "print('Mean Absolute Error:', \n",
    "      metrics.mean_absolute_error(y_test, y_pred)) "
   ]
  },
  {
   "cell_type": "markdown",
   "id": "584a7e70",
   "metadata": {
    "papermill": {
     "duration": 0.020165,
     "end_time": "2021-12-07T14:34:44.926878",
     "exception": false,
     "start_time": "2021-12-07T14:34:44.906713",
     "status": "completed"
    },
    "tags": []
   },
   "source": [
    "> ****Y'all Have A Good Evening!!"
   ]
  }
 ],
 "metadata": {
  "kernelspec": {
   "display_name": "Python 3",
   "language": "python",
   "name": "python3"
  },
  "language_info": {
   "codemirror_mode": {
    "name": "ipython",
    "version": 3
   },
   "file_extension": ".py",
   "mimetype": "text/x-python",
   "name": "python",
   "nbconvert_exporter": "python",
   "pygments_lexer": "ipython3",
   "version": "3.7.12"
  },
  "papermill": {
   "default_parameters": {},
   "duration": 16.930838,
   "end_time": "2021-12-07T14:34:45.759727",
   "environment_variables": {},
   "exception": null,
   "input_path": "__notebook__.ipynb",
   "output_path": "__notebook__.ipynb",
   "parameters": {},
   "start_time": "2021-12-07T14:34:28.828889",
   "version": "2.3.3"
  }
 },
 "nbformat": 4,
 "nbformat_minor": 5
}
